{
 "cells": [
  {
   "cell_type": "code",
   "execution_count": null,
   "id": "b426e606-d061-43c8-9b3b-328eac49e65d",
   "metadata": {},
   "outputs": [],
   "source": [
    "pip install azureml-sdk"
   ]
  },
  {
   "cell_type": "markdown",
   "id": "bde701c0-b13c-490e-8b5d-d28f0f94828e",
   "metadata": {},
   "source": [
    "**Importing the dependencies**"
   ]
  },
  {
   "cell_type": "code",
   "execution_count": 3,
   "id": "00622403-3ce4-49a3-bf79-46b4dd35d6f0",
   "metadata": {},
   "outputs": [],
   "source": [
    "import os\n",
    "import json\n",
    "import requests\n",
    "\n",
    "from azureml.core import Workspace\n",
    "from azureml.core.model import Model\n",
    "from azureml.core.environment import Environment\n",
    "from azureml.core.conda_dependencies import CondaDependencies\n",
    "from azureml.core.model import InferenceConfig\n",
    "from azureml.core.webservice import AciWebservice, Webservice"
   ]
  },
  {
   "cell_type": "code",
   "execution_count": 4,
   "id": "20511285-c420-4366-a738-e363881489b4",
   "metadata": {},
   "outputs": [],
   "source": [
    "# laoding the configuration file - standard way - use .env file and load_dotenv from python-dotenv module\n",
    "config_file_path = \"config.json\"\n",
    "\n",
    "# Read JSON data into a dictionary\n",
    "with open(config_file_path, 'r') as file:\n",
    "    data = json.load(file)\n",
    "\n",
    "subscription_id = data[\"subscription_id\"]\n",
    "resource_group = data[\"resource_group\"]  \n",
    "workspace_name = data[\"workspace_name\"]\n",
    "region = data[\"region\"]"
   ]
  },
  {
   "cell_type": "code",
   "execution_count": null,
   "id": "2181b4be-b18b-4f73-936c-b2df905c5c4f",
   "metadata": {},
   "outputs": [],
   "source": [
    "print(resource_group)\n",
    "print(workspace_name)\n",
    "print(region)"
   ]
  },
  {
   "cell_type": "markdown",
   "id": "1169e424-9325-4eae-bb4a-6cd33ff84db9",
   "metadata": {},
   "source": [
    "**Create a Resource Group from Azure Portal**"
   ]
  },
  {
   "cell_type": "code",
   "execution_count": null,
   "id": "67ea9e3f-95be-436d-b9de-e395c093b4c6",
   "metadata": {},
   "outputs": [],
   "source": [
    "# Create a workspace\n",
    "\n",
    "ws = Workspace.create(name=workspace_name,\n",
    "                      subscription_id=subscription_id,\n",
    "                      resource_group=resource_group,\n",
    "                      location=region)\n",
    "\n",
    "print(f'Workspace {workspace_name} created')"
   ]
  },
  {
   "cell_type": "code",
   "execution_count": 8,
   "id": "3a59b584-1f6a-4605-99a2-0d9e649d22b9",
   "metadata": {},
   "outputs": [],
   "source": [
    "# Specify the path to your  model file\n",
    "model_path = 'multiple_linear_regression_model.pkl'"
   ]
  },
  {
   "cell_type": "code",
   "execution_count": 9,
   "id": "4128cd49-48bf-4a97-a931-8d7c391d7e98",
   "metadata": {},
   "outputs": [],
   "source": [
    "model_name='weather_prediction_model'"
   ]
  },
  {
   "cell_type": "code",
   "execution_count": null,
   "id": "383488f6-6d86-4efc-9906-17547c6c5f53",
   "metadata": {},
   "outputs": [],
   "source": [
    "# Register the model in Azure Machine Learning\n",
    "registered_model = Model.register(model_path=model_path, model_name=model_name, workspace=ws)"
   ]
  },
  {
   "cell_type": "code",
   "execution_count": 11,
   "id": "064fbfc8-b4fd-493a-a383-1f7edb86479a",
   "metadata": {},
   "outputs": [],
   "source": [
    "# Create a Conda environment for your scikit-learn model\n",
    "conda_env = Environment('my-conda-env')\n",
    "conda_env.python.conda_dependencies = CondaDependencies.create(conda_packages=['scikit-learn'])"
   ]
  },
  {
   "cell_type": "code",
   "execution_count": 12,
   "id": "1ff71338-a9a9-4b5c-993d-4ac3091db355",
   "metadata": {},
   "outputs": [],
   "source": [
    "# Create an InferenceConfig\n",
    "inference_config = InferenceConfig(entry_script='score.py', environment=conda_env)"
   ]
  },
  {
   "cell_type": "code",
   "execution_count": 13,
   "id": "17ac0a14-c826-4331-9932-7b9d4b185749",
   "metadata": {},
   "outputs": [],
   "source": [
    "# Specify deployment configuration for ACI\n",
    "aci_config = AciWebservice.deploy_configuration(cpu_cores=1, memory_gb=1)"
   ]
  },
  {
   "cell_type": "code",
   "execution_count": null,
   "id": "2c72d776-7f1e-49ad-8c43-f837b23e8645",
   "metadata": {},
   "outputs": [],
   "source": [
    "service = Model.deploy(workspace=ws,\n",
    "                       name='weather-prediction-service',\n",
    "                       models=[registered_model],\n",
    "                       inference_config=inference_config,\n",
    "                       deployment_config=aci_config)\n",
    "service.wait_for_deployment(show_output=True)"
   ]
  },
  {
   "cell_type": "code",
   "execution_count": 15,
   "id": "69efb038-ad52-46d0-9f17-5acd96151214",
   "metadata": {},
   "outputs": [],
   "source": [
    "scoring_uri = service.scoring_uri"
   ]
  },
  {
   "cell_type": "code",
   "execution_count": null,
   "id": "731b0f84-6e1a-4cc9-9497-e958f6efbd73",
   "metadata": {},
   "outputs": [],
   "source": [
    "scoring_uri"
   ]
  },
  {
   "cell_type": "markdown",
   "id": "d5cafb79-2702-4203-977d-4181247fcbd5",
   "metadata": {},
   "source": [
    "**Cleaning up all the created resources**"
   ]
  },
  {
   "cell_type": "code",
   "execution_count": 17,
   "id": "a1895e4a-551d-4472-99bb-8bc2993c699a",
   "metadata": {},
   "outputs": [],
   "source": [
    "# Delete the service\n",
    "\n",
    "service_name = \"weather-prediction-service\"\n",
    "\n",
    "service = ws.webservices[service_name]\n",
    "service.delete()"
   ]
  },
  {
   "cell_type": "code",
   "execution_count": 18,
   "id": "1f1e57ad-478c-4aed-b33a-08bf3f09632c",
   "metadata": {},
   "outputs": [],
   "source": [
    "# Specify the name of the registered model to delete\n",
    "model_name = 'weather_prediction_model'\n",
    "\n",
    "# Delete the model\n",
    "registered_model = ws.models[model_name]\n",
    "registered_model.delete()\n"
   ]
  },
  {
   "cell_type": "code",
   "execution_count": 19,
   "id": "84733dc8-3ddf-47a2-a906-644946a3a888",
   "metadata": {},
   "outputs": [],
   "source": [
    "# Delete the workspace\n",
    "ws.delete(delete_dependent_resources=True)"
   ]
  },
  {
   "cell_type": "code",
   "execution_count": null,
   "id": "ef508ef4-3c96-401a-886c-56b714becc34",
   "metadata": {},
   "outputs": [],
   "source": []
  },
  {
   "cell_type": "code",
   "execution_count": null,
   "id": "7e34d373-e7ab-436c-beff-f0b4294f6371",
   "metadata": {},
   "outputs": [],
   "source": []
  },
  {
   "cell_type": "code",
   "execution_count": null,
   "id": "07efd612-03cb-4b53-8958-8b418de56d7c",
   "metadata": {},
   "outputs": [],
   "source": []
  },
  {
   "cell_type": "markdown",
   "id": "53f91c0a-bad4-4131-9d3a-27901d17e0a8",
   "metadata": {},
   "source": [
    "1. Azure Account with appropriate subscription\n",
    "2. Configuration file that has subscription_id and other details like resource_group name, etc\n",
    "3. Create a resource group from Azure Portal\n",
    "4. Create a workspace\n",
    "5. Register the model in container registry\n",
    "6. Deploy the model as endpoint\n",
    "7. Once done, delete the created resources"
   ]
  },
  {
   "cell_type": "code",
   "execution_count": null,
   "id": "d2588a05-78bf-45f6-8ef2-230e2f116ba0",
   "metadata": {},
   "outputs": [],
   "source": []
  }
 ],
 "metadata": {
  "kernelspec": {
   "display_name": "Python 3 (ipykernel)",
   "language": "python",
   "name": "python3"
  },
  "language_info": {
   "codemirror_mode": {
    "name": "ipython",
    "version": 3
   },
   "file_extension": ".py",
   "mimetype": "text/x-python",
   "name": "python",
   "nbconvert_exporter": "python",
   "pygments_lexer": "ipython3",
   "version": "3.10.12"
  }
 },
 "nbformat": 4,
 "nbformat_minor": 5
}
